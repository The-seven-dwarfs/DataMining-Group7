{
 "cells": [
  {
   "cell_type": "markdown",
   "metadata": {},
   "source": [
    "# To run this you have to update your merged dataset with the one without the null text field"
   ]
  },
  {
   "cell_type": "code",
   "execution_count": 5,
   "metadata": {},
   "outputs": [],
   "source": [
    "from IPython.core.interactiveshell import InteractiveShell\n",
    "InteractiveShell.ast_node_interactivity = 'all' # to print multiple outputs from the same cell\n",
    "import math\n",
    "import utils\n",
    "import numpy as np\n",
    "import pandas as pd\n",
    "import scipy.stats as stats\n",
    "import matplotlib.pyplot as plt\n",
    "import seaborn as sns\n",
    "from operator import index\n",
    "from collections import defaultdict\n",
    "from scipy.stats import pearsonr\n",
    "from datetime import datetime\n",
    "import os"
   ]
  },
  {
   "cell_type": "code",
   "execution_count": 7,
   "metadata": {},
   "outputs": [],
   "source": [
    "\n",
    "if (os.path.exists(\"./dataset/tweets_lang.csv\")):\n",
    "    tweets_lang_df = pd.read_csv(\"./dataset/tweets_lang.csv\")\n",
    "else:\n",
    "    tweet_df = pd.read_csv(\"dataset/tweets.csv\")\n",
    "    #tweet_df.drop(labels=[\"user_id\", \"retweet_count\", \"reply_count\", \"favorite_count\", \"num_hashtag\", \"num_urls\", \"num_mentions\", \"created_at\"]) # dropping all the columns except tweet_id and text \n",
    "    tweet_df.dropna(subset=[\"text\"], inplace=True) # dropping nan text fields\n",
    "    tweet_df[\"text\"] = tweet_df[\"text\"].astype(str) # casting all elements to string\n",
    "    tweets_df = tweet_df[~tweet_df.text.str.isspace()] # dropping tweets with only spaces\n",
    "\n",
    "    tweets_lang = utils.concurrent_language_model(tweet_df)\n",
    "    tweets_lang.to_csv(\"./dataset/tweets_lang.csv\")"
   ]
  }
 ],
 "metadata": {
  "kernelspec": {
   "display_name": "Python 3.10.6 64-bit",
   "language": "python",
   "name": "python3"
  },
  "language_info": {
   "codemirror_mode": {
    "name": "ipython",
    "version": 3
   },
   "file_extension": ".py",
   "mimetype": "text/x-python",
   "name": "python",
   "nbconvert_exporter": "python",
   "pygments_lexer": "ipython3",
   "version": "3.10.6"
  },
  "orig_nbformat": 4,
  "vscode": {
   "interpreter": {
    "hash": "916dbcbb3f70747c44a77c7bcd40155683ae19c65e1c03b4aa3499c5328201f1"
   }
  }
 },
 "nbformat": 4,
 "nbformat_minor": 2
}
