{
 "cells": [
  {
   "cell_type": "markdown",
   "metadata": {},
   "source": [
    "# To run this you have to update your merged dataset with the one without the null text field"
   ]
  },
  {
   "cell_type": "code",
   "execution_count": 1,
   "metadata": {},
   "outputs": [],
   "source": [
    "from IPython.core.interactiveshell import InteractiveShell\n",
    "InteractiveShell.ast_node_interactivity = 'all' # to print multiple outputs from the same cell\n",
    "import math\n",
    "import utils\n",
    "import numpy as np\n",
    "import pandas as pd\n",
    "import scipy.stats as stats\n",
    "import matplotlib.pyplot as plt\n",
    "import seaborn as sns\n",
    "from operator import index\n",
    "from collections import defaultdict\n",
    "from scipy.stats import pearsonr\n",
    "from datetime import datetime\n",
    "import os"
   ]
  },
  {
   "cell_type": "code",
   "execution_count": 2,
   "metadata": {},
   "outputs": [
    {
     "name": "stdout",
     "output_type": "stream",
     "text": [
      "Process number  0Process number   started1\n",
      " Process number started \n",
      "2 Process number started \n",
      "3 Process number started \n",
      "4 Process number started\n",
      " Process number 5  6Process number started  \n",
      "started7 Process number  \n",
      "8started\n",
      " Process number started \n",
      "9 started\n",
      "Process number  5 finished\n",
      "Process number  1 finished\n",
      "Process number  3 finished\n",
      "Process number  6 finished\n",
      "Process number  8 finished\n",
      "Process number  7 finished\n",
      "Process number  0 finished\n",
      "Process number  4 finished\n",
      "Process number  2 finished\n",
      "Process number  9 finished\n"
     ]
    },
    {
     "ename": "KeyboardInterrupt",
     "evalue": "",
     "output_type": "error",
     "traceback": [
      "\u001b[0;31m---------------------------------------------------------------------------\u001b[0m",
      "\u001b[0;31mKeyboardInterrupt\u001b[0m                         Traceback (most recent call last)",
      "Cell \u001b[0;32mIn [2], line 13\u001b[0m\n\u001b[1;32m     10\u001b[0m tweet_df[\u001b[39m\"\u001b[39m\u001b[39mtext\u001b[39m\u001b[39m\"\u001b[39m] \u001b[39m=\u001b[39m tweet_df[\u001b[39m\"\u001b[39m\u001b[39mtext\u001b[39m\u001b[39m\"\u001b[39m]\u001b[39m.\u001b[39mastype(\u001b[39mstr\u001b[39m) \u001b[39m# casting all elements to string\u001b[39;00m\n\u001b[1;32m     11\u001b[0m tweets_df \u001b[39m=\u001b[39m tweet_df[\u001b[39m~\u001b[39mtweet_df\u001b[39m.\u001b[39mtext\u001b[39m.\u001b[39mstr\u001b[39m.\u001b[39misspace()] \u001b[39m# dropping tweets with only spaces\u001b[39;00m\n\u001b[0;32m---> 13\u001b[0m tweets_lang \u001b[39m=\u001b[39m utils\u001b[39m.\u001b[39;49mconcurrent_language_model(tweet_df, parallelism_level)\n\u001b[1;32m     14\u001b[0m tweets_lang\u001b[39m.\u001b[39mto_csv(\u001b[39m\"\u001b[39m\u001b[39m./dataset/tweets_lang.csv\u001b[39m\u001b[39m\"\u001b[39m)\n",
      "File \u001b[0;32m~/bots_on_twitter/utils.py:91\u001b[0m, in \u001b[0;36mconcurrent_language_model\u001b[0;34m(dataset, parallelism_level)\u001b[0m\n\u001b[1;32m     88\u001b[0m \ti\u001b[39m.\u001b[39mstart()\n\u001b[1;32m     90\u001b[0m \u001b[39mfor\u001b[39;00m i \u001b[39min\u001b[39;00m process_list:\n\u001b[0;32m---> 91\u001b[0m \ti\u001b[39m.\u001b[39;49mjoin()\n\u001b[1;32m     93\u001b[0m \u001b[39mprint\u001b[39m(\u001b[39m\"\u001b[39m\u001b[39mAll processes joined\u001b[39m\u001b[39m\"\u001b[39m)\n\u001b[1;32m     95\u001b[0m splitted_dataset \u001b[39m=\u001b[39m []\n",
      "File \u001b[0;32m/usr/lib/python3.10/multiprocessing/process.py:149\u001b[0m, in \u001b[0;36mBaseProcess.join\u001b[0;34m(self, timeout)\u001b[0m\n\u001b[1;32m    147\u001b[0m \u001b[39massert\u001b[39;00m \u001b[39mself\u001b[39m\u001b[39m.\u001b[39m_parent_pid \u001b[39m==\u001b[39m os\u001b[39m.\u001b[39mgetpid(), \u001b[39m'\u001b[39m\u001b[39mcan only join a child process\u001b[39m\u001b[39m'\u001b[39m\n\u001b[1;32m    148\u001b[0m \u001b[39massert\u001b[39;00m \u001b[39mself\u001b[39m\u001b[39m.\u001b[39m_popen \u001b[39mis\u001b[39;00m \u001b[39mnot\u001b[39;00m \u001b[39mNone\u001b[39;00m, \u001b[39m'\u001b[39m\u001b[39mcan only join a started process\u001b[39m\u001b[39m'\u001b[39m\n\u001b[0;32m--> 149\u001b[0m res \u001b[39m=\u001b[39m \u001b[39mself\u001b[39;49m\u001b[39m.\u001b[39;49m_popen\u001b[39m.\u001b[39;49mwait(timeout)\n\u001b[1;32m    150\u001b[0m \u001b[39mif\u001b[39;00m res \u001b[39mis\u001b[39;00m \u001b[39mnot\u001b[39;00m \u001b[39mNone\u001b[39;00m:\n\u001b[1;32m    151\u001b[0m     _children\u001b[39m.\u001b[39mdiscard(\u001b[39mself\u001b[39m)\n",
      "File \u001b[0;32m/usr/lib/python3.10/multiprocessing/popen_fork.py:43\u001b[0m, in \u001b[0;36mPopen.wait\u001b[0;34m(self, timeout)\u001b[0m\n\u001b[1;32m     41\u001b[0m             \u001b[39mreturn\u001b[39;00m \u001b[39mNone\u001b[39;00m\n\u001b[1;32m     42\u001b[0m     \u001b[39m# This shouldn't block if wait() returned successfully.\u001b[39;00m\n\u001b[0;32m---> 43\u001b[0m     \u001b[39mreturn\u001b[39;00m \u001b[39mself\u001b[39;49m\u001b[39m.\u001b[39;49mpoll(os\u001b[39m.\u001b[39;49mWNOHANG \u001b[39mif\u001b[39;49;00m timeout \u001b[39m==\u001b[39;49m \u001b[39m0.0\u001b[39;49m \u001b[39melse\u001b[39;49;00m \u001b[39m0\u001b[39;49m)\n\u001b[1;32m     44\u001b[0m \u001b[39mreturn\u001b[39;00m \u001b[39mself\u001b[39m\u001b[39m.\u001b[39mreturncode\n",
      "File \u001b[0;32m/usr/lib/python3.10/multiprocessing/popen_fork.py:27\u001b[0m, in \u001b[0;36mPopen.poll\u001b[0;34m(self, flag)\u001b[0m\n\u001b[1;32m     25\u001b[0m \u001b[39mif\u001b[39;00m \u001b[39mself\u001b[39m\u001b[39m.\u001b[39mreturncode \u001b[39mis\u001b[39;00m \u001b[39mNone\u001b[39;00m:\n\u001b[1;32m     26\u001b[0m     \u001b[39mtry\u001b[39;00m:\n\u001b[0;32m---> 27\u001b[0m         pid, sts \u001b[39m=\u001b[39m os\u001b[39m.\u001b[39;49mwaitpid(\u001b[39mself\u001b[39;49m\u001b[39m.\u001b[39;49mpid, flag)\n\u001b[1;32m     28\u001b[0m     \u001b[39mexcept\u001b[39;00m \u001b[39mOSError\u001b[39;00m:\n\u001b[1;32m     29\u001b[0m         \u001b[39m# Child process not yet created. See #1731717\u001b[39;00m\n\u001b[1;32m     30\u001b[0m         \u001b[39m# e.errno == errno.ECHILD == 10\u001b[39;00m\n\u001b[1;32m     31\u001b[0m         \u001b[39mreturn\u001b[39;00m \u001b[39mNone\u001b[39;00m\n",
      "\u001b[0;31mKeyboardInterrupt\u001b[0m: "
     ]
    }
   ],
   "source": [
    "\n",
    "parallelism_level = 10\n",
    "\n",
    "if (os.path.exists(\"./dataset/tweets_lang.csv\")):\n",
    "    tweets_lang_df = pd.read_csv(\"./dataset/tweets_lang.csv\")\n",
    "else:\n",
    "    tweet_df = pd.read_csv(\"dataset/tweets.csv\", nrows=1000)\n",
    "    tweet_df.drop(labels=[\"user_id\", \"retweet_count\", \"reply_count\", \"favorite_count\", \"num_hashtags\", \"num_urls\", \"num_mentions\", \"created_at\"], axis=1, inplace=True) # dropping all the columns except tweet_id and text \n",
    "    tweet_df.rename(columns={\"id\" : \"tweet_id\"}, inplace=True)\n",
    "    tweet_df.dropna(subset=[\"text\"], inplace=True) # dropping nan text fields\n",
    "    tweet_df[\"text\"] = tweet_df[\"text\"].astype(str) # casting all elements to string\n",
    "    tweets_df = tweet_df[~tweet_df.text.str.isspace()] # dropping tweets with only spaces\n",
    "\n",
    "    tweets_lang = utils.concurrent_language_model(tweet_df, parallelism_level)\n",
    "    tweets_lang.to_csv(\"./dataset/tweets_lang.csv\")"
   ]
  },
  {
   "cell_type": "code",
   "execution_count": null,
   "metadata": {},
   "outputs": [
    {
     "data": {
      "text/html": [
       "<div>\n",
       "<style scoped>\n",
       "    .dataframe tbody tr th:only-of-type {\n",
       "        vertical-align: middle;\n",
       "    }\n",
       "\n",
       "    .dataframe tbody tr th {\n",
       "        vertical-align: top;\n",
       "    }\n",
       "\n",
       "    .dataframe thead th {\n",
       "        text-align: right;\n",
       "    }\n",
       "</style>\n",
       "<table border=\"1\" class=\"dataframe\">\n",
       "  <thead>\n",
       "    <tr style=\"text-align: right;\">\n",
       "      <th></th>\n",
       "      <th>tweet_id</th>\n",
       "      <th>text</th>\n",
       "      <th>tweet_lang</th>\n",
       "    </tr>\n",
       "  </thead>\n",
       "  <tbody>\n",
       "    <tr>\n",
       "      <th>0</th>\n",
       "      <td>509354017856950272</td>\n",
       "      <td>If man is a little lower than angels, then ang...</td>\n",
       "      <td>Language.ENGLISH</td>\n",
       "    </tr>\n",
       "    <tr>\n",
       "      <th>1</th>\n",
       "      <td>583002592529121280</td>\n",
       "      <td>\"@BestWSHHVids: how do you say these words wit...</td>\n",
       "      <td>Language.ENGLISH</td>\n",
       "    </tr>\n",
       "    <tr>\n",
       "      <th>2</th>\n",
       "      <td>461498835362013185</td>\n",
       "      <td>@LOLatComedy awsome</td>\n",
       "      <td>Language.SWEDISH</td>\n",
       "    </tr>\n",
       "    <tr>\n",
       "      <th>3</th>\n",
       "      <td>528808127366692864</td>\n",
       "      <td>Stephen Hawkins: i buchi neri non esistono se ...</td>\n",
       "      <td>Language.ITALIAN</td>\n",
       "    </tr>\n",
       "    <tr>\n",
       "      <th>4</th>\n",
       "      <td>575336690904006656</td>\n",
       "      <td>RT @tibbs_montris: So ready for Wednesday!</td>\n",
       "      <td>Language.TAGALOG</td>\n",
       "    </tr>\n",
       "  </tbody>\n",
       "</table>\n",
       "</div>"
      ],
      "text/plain": [
       "             tweet_id                                               text  \\\n",
       "0  509354017856950272  If man is a little lower than angels, then ang...   \n",
       "1  583002592529121280  \"@BestWSHHVids: how do you say these words wit...   \n",
       "2  461498835362013185                                @LOLatComedy awsome   \n",
       "3  528808127366692864  Stephen Hawkins: i buchi neri non esistono se ...   \n",
       "4  575336690904006656        RT @tibbs_montris: So ready for Wednesday!    \n",
       "\n",
       "         tweet_lang  \n",
       "0  Language.ENGLISH  \n",
       "1  Language.ENGLISH  \n",
       "2  Language.SWEDISH  \n",
       "3  Language.ITALIAN  \n",
       "4  Language.TAGALOG  "
      ]
     },
     "execution_count": 3,
     "metadata": {},
     "output_type": "execute_result"
    }
   ],
   "source": [
    "tweets_lang.head()"
   ]
  },
  {
   "cell_type": "code",
   "execution_count": null,
   "metadata": {},
   "outputs": [],
   "source": []
  }
 ],
 "metadata": {
  "kernelspec": {
   "display_name": "Python 3.10.6 64-bit",
   "language": "python",
   "name": "python3"
  },
  "language_info": {
   "codemirror_mode": {
    "name": "ipython",
    "version": 3
   },
   "file_extension": ".py",
   "mimetype": "text/x-python",
   "name": "python",
   "nbconvert_exporter": "python",
   "pygments_lexer": "ipython3",
   "version": "3.10.6"
  },
  "orig_nbformat": 4,
  "vscode": {
   "interpreter": {
    "hash": "916dbcbb3f70747c44a77c7bcd40155683ae19c65e1c03b4aa3499c5328201f1"
   }
  }
 },
 "nbformat": 4,
 "nbformat_minor": 2
}
